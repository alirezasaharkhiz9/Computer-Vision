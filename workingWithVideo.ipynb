{
 "cells": [
  {
   "cell_type": "markdown",
   "id": "23828159-ae92-4639-b87d-36048eae2bde",
   "metadata": {},
   "source": [
    "# Working With Video\n",
    "\n",
    "in this lesson we'll learn:\n",
    "- [Webcam](#webcom)\n",
    "- [Live Sketch With Webcam](#live-sketch-with-webcam)\n",
    "- [video file](#video-file)\n",
    "- [save video](#save-video)"
   ]
  },
  {
   "cell_type": "markdown",
   "id": "ae16b779-b70c-4b02-8c80-0120eb4484a6",
   "metadata": {
    "jp-MarkdownHeadingCollapsed": true
   },
   "source": [
    "## load library"
   ]
  },
  {
   "cell_type": "code",
   "execution_count": 45,
   "id": "af531685-3667-49df-aa7e-e3bf1e153344",
   "metadata": {},
   "outputs": [],
   "source": [
    "import cv2\n",
    "import numpy as np\n",
    "import time"
   ]
  },
  {
   "cell_type": "markdown",
   "id": "e071e9fa-0cac-40fd-82c3-72f3a48f28a2",
   "metadata": {
    "jp-MarkdownHeadingCollapsed": true
   },
   "source": [
    "## webcam"
   ]
  },
  {
   "cell_type": "code",
   "execution_count": 47,
   "id": "05327e15-3075-42fc-bdf1-aceb37f47113",
   "metadata": {},
   "outputs": [],
   "source": [
    "cap = cv2.VideoCapture(0)\n",
    "\n",
    "while True:\n",
    "    ret, frame = cap.read()\n",
    "\n",
    "    cv2.imshow('live webcam', frame)\n",
    "\n",
    "    if cv2.waitKey(1) == 27:\n",
    "        break\n",
    "\n",
    "cap.release()\n",
    "cv2.destroyAllWindows()"
   ]
  },
  {
   "cell_type": "markdown",
   "id": "4114b58a-70d1-4eac-b09b-fb70dfd7c8d1",
   "metadata": {
    "jp-MarkdownHeadingCollapsed": true
   },
   "source": [
    "## live sketch with webcam"
   ]
  },
  {
   "cell_type": "code",
   "execution_count": 3,
   "id": "3b75ab09-5dce-421a-9a9e-43d3a16a71b7",
   "metadata": {},
   "outputs": [],
   "source": [
    "def mySketch(image):\n",
    "    image_gray = cv2.cvtColor(image, cv2.COLOR_BGR2GRAY)\n",
    "    image_blur = cv2.GaussianBlur(image_gray, (5, 5), 0)\n",
    "    canny_edge = cv2.Canny(image_blur, 10, 70)\n",
    "    thresh = cv2.threshold(canny_edge, 70, 225, cv2.THRESH_BINARY_INV)[1]\n",
    "    return thresh"
   ]
  },
  {
   "cell_type": "code",
   "execution_count": 4,
   "id": "0d1b3dfb-39bb-437d-9c0b-299747fb2c63",
   "metadata": {},
   "outputs": [],
   "source": [
    "cap = cv2.VideoCapture(0)\n",
    "\n",
    "while True:\n",
    "    ret, frame = cap.read()\n",
    "\n",
    "    myFrame = mySketch(frame)\n",
    "\n",
    "    cv2.imshow('live webcam', myFrame)\n",
    "\n",
    "    if cv2.waitKey(1) == 27:\n",
    "        break\n",
    "\n",
    "cap.release()\n",
    "cv2.destroyAllWindows()"
   ]
  },
  {
   "cell_type": "markdown",
   "id": "01875b66-6afa-4e7e-8af4-56a062b569d8",
   "metadata": {},
   "source": [
    "## video file"
   ]
  },
  {
   "cell_type": "code",
   "execution_count": 55,
   "id": "86d0be90-b912-4fa7-91ed-1ff4413c173d",
   "metadata": {},
   "outputs": [],
   "source": [
    "cap = cv2.VideoCapture('C:/Users/Alireza/Downloads/Documents/Undergraduate Project/videos/drummer.mp4')\n",
    "\n",
    "if cap.isOpened == False:\n",
    "    print('error file')\n",
    "\n",
    "while True:\n",
    "    ret, frame = cap.read()\n",
    "\n",
    "    if ret == False:\n",
    "        break\n",
    "        \n",
    "    # time.sleep(1/20)\n",
    "    cv2.imshow('live webcam', frame)\n",
    "\n",
    "    if cv2.waitKey(1) == 27:\n",
    "        break\n",
    "\n",
    "\n",
    "cap.release()\n",
    "cv2.destroyAllWindows()"
   ]
  },
  {
   "cell_type": "markdown",
   "id": "4037e891-bf38-489e-9087-4ec1bf258130",
   "metadata": {},
   "source": [
    "## save video"
   ]
  },
  {
   "cell_type": "code",
   "execution_count": 67,
   "id": "c7afc08d-eaac-4525-890b-bf6f603b1353",
   "metadata": {},
   "outputs": [],
   "source": [
    "cap = cv2.VideoCapture('C:/Users/Alireza/Downloads/Documents/Undergraduate Project/videos/drummer.mp4')\n",
    "\n",
    "w = int(cap.get(cv2.CAP_PROP_FRAME_WIDTH))\n",
    "h = int(cap.get(cv2.CAP_PROP_FRAME_HEIGHT))\n",
    "\n",
    "out = cv2.VideoWriter('C:/Users/Alireza/Downloads/drummer.mp4', cv2.VideoWriter_fourcc(*'DIVX'), 20, (w, h))\n",
    "\n",
    "while True:\n",
    "    ret, frame = cap.read()\n",
    "\n",
    "    if ret == False:\n",
    "        break\n",
    "\n",
    "    img_gray = cv2.cvtColor(frame, cv2.COLOR_BGR2GRAY)\n",
    "    cv2.imshow('img_gray', img_gray)\n",
    "    out.write(img_gray)\n",
    "\n",
    "cap.release()\n",
    "out.release()\n",
    "cv2.destroyAllWindows()"
   ]
  }
 ],
 "metadata": {
  "kernelspec": {
   "display_name": "Python 3 (ipykernel)",
   "language": "python",
   "name": "python3"
  },
  "language_info": {
   "codemirror_mode": {
    "name": "ipython",
    "version": 3
   },
   "file_extension": ".py",
   "mimetype": "text/x-python",
   "name": "python",
   "nbconvert_exporter": "python",
   "pygments_lexer": "ipython3",
   "version": "3.11.1"
  }
 },
 "nbformat": 4,
 "nbformat_minor": 5
}
